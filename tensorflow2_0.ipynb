{
  "nbformat": 4,
  "nbformat_minor": 0,
  "metadata": {
    "colab": {
      "name": "tensorflow2.0.ipynb",
      "provenance": [],
      "collapsed_sections": []
    },
    "kernelspec": {
      "name": "python3",
      "display_name": "Python 3"
    },
    "accelerator": "GPU"
  },
  "cells": [
    {
      "cell_type": "code",
      "metadata": {
        "id": "wL_8hLofzZ5J",
        "colab_type": "code",
        "colab": {}
      },
      "source": [
        "import tensorflow as tf"
      ],
      "execution_count": 0,
      "outputs": []
    },
    {
      "cell_type": "markdown",
      "metadata": {
        "id": "nl0RN6xUzt6e",
        "colab_type": "text"
      },
      "source": [
        "### Versión"
      ]
    },
    {
      "cell_type": "code",
      "metadata": {
        "id": "s2u8_9DCzv4o",
        "colab_type": "code",
        "outputId": "42697d69-877a-414f-a990-7d4e1f59463d",
        "colab": {
          "base_uri": "https://localhost:8080/",
          "height": 35
        }
      },
      "source": [
        "print(tf.__version__)"
      ],
      "execution_count": 0,
      "outputs": [
        {
          "output_type": "stream",
          "text": [
            "2.1.0\n"
          ],
          "name": "stdout"
        }
      ]
    },
    {
      "cell_type": "markdown",
      "metadata": {
        "id": "naUnMBbI5myU",
        "colab_type": "text"
      },
      "source": [
        "## Tensores"
      ]
    },
    {
      "cell_type": "code",
      "metadata": {
        "id": "gsY9juHl5q-K",
        "colab_type": "code",
        "outputId": "3983323e-a100-4ad7-cf91-9feadc9b1301",
        "colab": {
          "base_uri": "https://localhost:8080/",
          "height": 35
        }
      },
      "source": [
        "x = tf.constant([[2,5,0]])\n",
        "x"
      ],
      "execution_count": 0,
      "outputs": [
        {
          "output_type": "execute_result",
          "data": {
            "text/plain": [
              "<tf.Tensor: shape=(1, 3), dtype=int32, numpy=array([[2, 5, 0]], dtype=int32)>"
            ]
          },
          "metadata": {
            "tags": []
          },
          "execution_count": 5
        }
      ]
    },
    {
      "cell_type": "code",
      "metadata": {
        "id": "N4veE8875ysw",
        "colab_type": "code",
        "outputId": "d8a9d6b4-27af-4d0c-a166-b98d1330a020",
        "colab": {
          "base_uri": "https://localhost:8080/",
          "height": 172
        }
      },
      "source": [
        "x[0][0] = 1"
      ],
      "execution_count": 0,
      "outputs": [
        {
          "output_type": "error",
          "ename": "TypeError",
          "evalue": "ignored",
          "traceback": [
            "\u001b[0;31m---------------------------------------------------------------------------\u001b[0m",
            "\u001b[0;31mTypeError\u001b[0m                                 Traceback (most recent call last)",
            "\u001b[0;32m<ipython-input-6-97b0e1a2612b>\u001b[0m in \u001b[0;36m<module>\u001b[0;34m()\u001b[0m\n\u001b[0;32m----> 1\u001b[0;31m \u001b[0mx\u001b[0m\u001b[0;34m[\u001b[0m\u001b[0;36m0\u001b[0m\u001b[0;34m]\u001b[0m\u001b[0;34m[\u001b[0m\u001b[0;36m0\u001b[0m\u001b[0;34m]\u001b[0m \u001b[0;34m=\u001b[0m \u001b[0;36m1\u001b[0m\u001b[0;34m\u001b[0m\u001b[0;34m\u001b[0m\u001b[0m\n\u001b[0m",
            "\u001b[0;31mTypeError\u001b[0m: 'tensorflow.python.framework.ops.EagerTensor' object does not support item assignment"
          ]
        }
      ]
    },
    {
      "cell_type": "code",
      "metadata": {
        "id": "G_TdtH1F58ro",
        "colab_type": "code",
        "outputId": "b4804596-4d5d-451c-e9c4-a6148f01a35e",
        "colab": {
          "base_uri": "https://localhost:8080/",
          "height": 35
        }
      },
      "source": [
        "x.shape"
      ],
      "execution_count": 0,
      "outputs": [
        {
          "output_type": "execute_result",
          "data": {
            "text/plain": [
              "TensorShape([1, 3])"
            ]
          },
          "metadata": {
            "tags": []
          },
          "execution_count": 7
        }
      ]
    },
    {
      "cell_type": "markdown",
      "metadata": {
        "id": "kV99yGQl6VLg",
        "colab_type": "text"
      },
      "source": [
        "### Convertir a numpy"
      ]
    },
    {
      "cell_type": "code",
      "metadata": {
        "id": "mrTfoFDh6YVQ",
        "colab_type": "code",
        "outputId": "0853779b-87c9-4716-e693-8da2ad3546cb",
        "colab": {
          "base_uri": "https://localhost:8080/",
          "height": 54
        }
      },
      "source": [
        "print(type(x))\n",
        "x = x.numpy()\n",
        "print(type(x))\n"
      ],
      "execution_count": 0,
      "outputs": [
        {
          "output_type": "stream",
          "text": [
            "<class 'tensorflow.python.framework.ops.EagerTensor'>\n",
            "<class 'numpy.ndarray'>\n"
          ],
          "name": "stdout"
        }
      ]
    },
    {
      "cell_type": "markdown",
      "metadata": {
        "id": "i7y8joaV3VLs",
        "colab_type": "text"
      },
      "source": [
        "### Ejecución ansiosa (eager execution)\n",
        "* [Documentación](https://www.tensorflow.org/guide/eager)\n",
        "* Activada por default en tensorflow 2.0\n",
        "* Desactivar con `tf.disable_v2_behavior()`\n"
      ]
    },
    {
      "cell_type": "code",
      "metadata": {
        "id": "z2l9Yet2zz2p",
        "colab_type": "code",
        "outputId": "42e405e0-610d-46e8-85e8-3dd99c4e02f6",
        "colab": {
          "base_uri": "https://localhost:8080/",
          "height": 35
        }
      },
      "source": [
        "tf.executing_eagerly() ###1"
      ],
      "execution_count": 0,
      "outputs": [
        {
          "output_type": "execute_result",
          "data": {
            "text/plain": [
              "True"
            ]
          },
          "metadata": {
            "tags": []
          },
          "execution_count": 9
        }
      ]
    },
    {
      "cell_type": "code",
      "metadata": {
        "id": "cxeFASz3ubi5",
        "colab_type": "code",
        "outputId": "9668da72-2eb2-4756-ef36-928f3e156fa1",
        "colab": {
          "base_uri": "https://localhost:8080/",
          "height": 35
        }
      },
      "source": [
        "a = tf.constant(2)\n",
        "b = tf.constant(3)\n",
        "c = a + b\n",
        "print(c)\n"
      ],
      "execution_count": 0,
      "outputs": [
        {
          "output_type": "stream",
          "text": [
            "tf.Tensor(5, shape=(), dtype=int32)\n"
          ],
          "name": "stdout"
        }
      ]
    },
    {
      "cell_type": "code",
      "metadata": {
        "id": "TiV2Zuxy32dY",
        "colab_type": "code",
        "outputId": "b8e851fc-632b-4c80-d2a0-2e88ff5a30de",
        "colab": {
          "base_uri": "https://localhost:8080/",
          "height": 183
        }
      },
      "source": [
        "x = [[1,0,1]]\n",
        "y = tf.constant([[1,1,1]])\n",
        "\n",
        "r = tf.matmul(tf.transpose(y) ,x )\n",
        "print(\"Resultado\",r)\n",
        "print()\n",
        "print(r + 2)"
      ],
      "execution_count": 0,
      "outputs": [
        {
          "output_type": "stream",
          "text": [
            "Resultado tf.Tensor(\n",
            "[[1 0 1]\n",
            " [1 0 1]\n",
            " [1 0 1]], shape=(3, 3), dtype=int32)\n",
            "\n",
            "tf.Tensor(\n",
            "[[3 2 3]\n",
            " [3 2 3]\n",
            " [3 2 3]], shape=(3, 3), dtype=int32)\n"
          ],
          "name": "stdout"
        }
      ]
    },
    {
      "cell_type": "markdown",
      "metadata": {
        "id": "qEPUz-B8625F",
        "colab_type": "text"
      },
      "source": [
        "### Ones y Zeros"
      ]
    },
    {
      "cell_type": "code",
      "metadata": {
        "id": "bppjly-W66XH",
        "colab_type": "code",
        "outputId": "b6f34ded-e1ea-4377-f794-ea033a16b519",
        "colab": {
          "base_uri": "https://localhost:8080/",
          "height": 109
        }
      },
      "source": [
        "a = tf.ones(shape= (4,3))\n",
        "a"
      ],
      "execution_count": 0,
      "outputs": [
        {
          "output_type": "execute_result",
          "data": {
            "text/plain": [
              "<tf.Tensor: shape=(4, 3), dtype=float32, numpy=\n",
              "array([[1., 1., 1.],\n",
              "       [1., 1., 1.],\n",
              "       [1., 1., 1.],\n",
              "       [1., 1., 1.]], dtype=float32)>"
            ]
          },
          "metadata": {
            "tags": []
          },
          "execution_count": 12
        }
      ]
    },
    {
      "cell_type": "code",
      "metadata": {
        "id": "3FGaM7GD7A23",
        "colab_type": "code",
        "outputId": "30fedf32-da2f-4502-d400-4746306a90f2",
        "colab": {
          "base_uri": "https://localhost:8080/",
          "height": 35
        }
      },
      "source": [
        "b = tf.zeros(shape = (1,1))\n",
        "b"
      ],
      "execution_count": 0,
      "outputs": [
        {
          "output_type": "execute_result",
          "data": {
            "text/plain": [
              "<tf.Tensor: shape=(1, 1), dtype=float32, numpy=array([[0.]], dtype=float32)>"
            ]
          },
          "metadata": {
            "tags": []
          },
          "execution_count": 13
        }
      ]
    },
    {
      "cell_type": "markdown",
      "metadata": {
        "id": "H7Q4XRkE7XYN",
        "colab_type": "text"
      },
      "source": [
        "\n",
        "### Tensores aleatorios\n",
        "\n"
      ]
    },
    {
      "cell_type": "code",
      "metadata": {
        "id": "qZSBl4U57rl4",
        "colab_type": "code",
        "outputId": "b17cfe56-5db2-4463-db4a-041e8f7849e1",
        "colab": {
          "base_uri": "https://localhost:8080/",
          "height": 91
        }
      },
      "source": [
        "z = tf.random.uniform(shape = (3,3), minval =  0 , maxval = 100)\n",
        "z"
      ],
      "execution_count": 0,
      "outputs": [
        {
          "output_type": "execute_result",
          "data": {
            "text/plain": [
              "<tf.Tensor: shape=(3, 3), dtype=float32, numpy=\n",
              "array([[64.36859 , 89.45303 , 46.965263],\n",
              "       [97.88798 , 72.27141 , 49.889206],\n",
              "       [ 5.559933, 48.990665, 33.633198]], dtype=float32)>"
            ]
          },
          "metadata": {
            "tags": []
          },
          "execution_count": 14
        }
      ]
    },
    {
      "cell_type": "code",
      "metadata": {
        "id": "59DqynjX7bw4",
        "colab_type": "code",
        "outputId": "bb7f0e22-8b6a-446e-8708-b29beb6351bd",
        "colab": {
          "base_uri": "https://localhost:8080/",
          "height": 91
        }
      },
      "source": [
        "h = tf.random.normal(shape = (3,3), mean  = 10 , stddev = 1.0)\n",
        "h"
      ],
      "execution_count": 0,
      "outputs": [
        {
          "output_type": "execute_result",
          "data": {
            "text/plain": [
              "<tf.Tensor: shape=(3, 3), dtype=float32, numpy=\n",
              "array([[ 8.743766,  9.213352,  9.538583],\n",
              "       [10.690212, 10.138704, 10.26572 ],\n",
              "       [10.444667,  9.931966, 10.283203]], dtype=float32)>"
            ]
          },
          "metadata": {
            "tags": []
          },
          "execution_count": 15
        }
      ]
    },
    {
      "cell_type": "markdown",
      "metadata": {
        "id": "VLr2amIqVAxF",
        "colab_type": "text"
      },
      "source": [
        "### Apartadores (placeholders)"
      ]
    },
    {
      "cell_type": "code",
      "metadata": {
        "id": "PqN7UA-T7pT3",
        "colab_type": "code",
        "outputId": "cd8f45e3-151a-4542-8b13-383f7479252e",
        "colab": {
          "base_uri": "https://localhost:8080/",
          "height": 172
        }
      },
      "source": [
        "a = tf.placeholder(tf.float64) ###2"
      ],
      "execution_count": 0,
      "outputs": [
        {
          "output_type": "error",
          "ename": "AttributeError",
          "evalue": "ignored",
          "traceback": [
            "\u001b[0;31m---------------------------------------------------------------------------\u001b[0m",
            "\u001b[0;31mAttributeError\u001b[0m                            Traceback (most recent call last)",
            "\u001b[0;32m<ipython-input-16-2f3eb2a08539>\u001b[0m in \u001b[0;36m<module>\u001b[0;34m()\u001b[0m\n\u001b[0;32m----> 1\u001b[0;31m \u001b[0ma\u001b[0m \u001b[0;34m=\u001b[0m \u001b[0mtf\u001b[0m\u001b[0;34m.\u001b[0m\u001b[0mplaceholder\u001b[0m\u001b[0;34m(\u001b[0m\u001b[0mtf\u001b[0m\u001b[0;34m.\u001b[0m\u001b[0mfloat64\u001b[0m\u001b[0;34m)\u001b[0m \u001b[0;31m###2\u001b[0m\u001b[0;34m\u001b[0m\u001b[0;34m\u001b[0m\u001b[0m\n\u001b[0m",
            "\u001b[0;31mAttributeError\u001b[0m: module 'tensorflow' has no attribute 'placeholder'"
          ]
        }
      ]
    },
    {
      "cell_type": "markdown",
      "metadata": {
        "id": "YiDxyw5VZvsf",
        "colab_type": "text"
      },
      "source": [
        "### Operaciones"
      ]
    },
    {
      "cell_type": "code",
      "metadata": {
        "id": "27RC2tApWhDW",
        "colab_type": "code",
        "outputId": "038d1b40-df48-4ada-ef9c-f9f7685a839a",
        "colab": {
          "base_uri": "https://localhost:8080/",
          "height": 35
        }
      },
      "source": [
        "a  = tf.constant(5)  \n",
        "b = tf.constant(2)\n",
        "\n",
        "c = a + b\n",
        "c "
      ],
      "execution_count": 0,
      "outputs": [
        {
          "output_type": "execute_result",
          "data": {
            "text/plain": [
              "<tf.Tensor: shape=(), dtype=int32, numpy=7>"
            ]
          },
          "metadata": {
            "tags": []
          },
          "execution_count": 17
        }
      ]
    },
    {
      "cell_type": "code",
      "metadata": {
        "id": "xJPyYV4xYE-o",
        "colab_type": "code",
        "outputId": "017997a2-b75c-4b79-b388-adfef276851b",
        "colab": {
          "base_uri": "https://localhost:8080/",
          "height": 35
        }
      },
      "source": [
        "print(c)"
      ],
      "execution_count": 0,
      "outputs": [
        {
          "output_type": "stream",
          "text": [
            "tf.Tensor(7, shape=(), dtype=int32)\n"
          ],
          "name": "stdout"
        }
      ]
    },
    {
      "cell_type": "code",
      "metadata": {
        "id": "T5siaKUFaahx",
        "colab_type": "code",
        "outputId": "902d9f5a-e81b-42b0-e1c2-20ba652c1807",
        "colab": {
          "base_uri": "https://localhost:8080/",
          "height": 35
        }
      },
      "source": [
        "print(c + 10)"
      ],
      "execution_count": 0,
      "outputs": [
        {
          "output_type": "stream",
          "text": [
            "tf.Tensor(17, shape=(), dtype=int32)\n"
          ],
          "name": "stdout"
        }
      ]
    },
    {
      "cell_type": "markdown",
      "metadata": {
        "id": "n0B1ebPscRrp",
        "colab_type": "text"
      },
      "source": [
        "### Variables"
      ]
    },
    {
      "cell_type": "code",
      "metadata": {
        "id": "lO4f-z9KXUrI",
        "colab_type": "code",
        "outputId": "cd521e7b-5b8a-4de5-e8d8-d208431eae72",
        "colab": {
          "base_uri": "https://localhost:8080/",
          "height": 146
        }
      },
      "source": [
        "a = tf.Variable([0.5], tf.float64)\n",
        "b  = tf.Variable(2.0)\n",
        "c = tf.Variable(tf.random.normal(shape = (5,5)))\n",
        "print(c)\n"
      ],
      "execution_count": 0,
      "outputs": [
        {
          "output_type": "stream",
          "text": [
            "<tf.Variable 'Variable:0' shape=(5, 5) dtype=float32, numpy=\n",
            "array([[-1.3713856 , -1.9172331 ,  0.18341091, -0.9880844 , -0.07860714],\n",
            "       [ 1.7787533 ,  0.29785463,  1.2618688 , -0.6106929 , -1.2073467 ],\n",
            "       [-0.9877198 ,  0.11580277,  0.00489833,  0.65592545,  0.43491092],\n",
            "       [ 0.65977424,  0.5175046 ,  1.3810018 , -2.8422995 ,  0.7324317 ],\n",
            "       [-0.3521564 , -0.4826301 ,  1.0586786 ,  1.1759588 , -0.1506712 ]],\n",
            "      dtype=float32)>\n"
          ],
          "name": "stdout"
        }
      ]
    },
    {
      "cell_type": "code",
      "metadata": {
        "id": "53kZgFwtfYph",
        "colab_type": "code",
        "outputId": "54f6dc2f-031d-4bc7-a574-d5158e0ea4c0",
        "colab": {
          "base_uri": "https://localhost:8080/",
          "height": 35
        }
      },
      "source": [
        "a.assign([100])\n",
        "a"
      ],
      "execution_count": 0,
      "outputs": [
        {
          "output_type": "execute_result",
          "data": {
            "text/plain": [
              "<tf.Variable 'Variable:0' shape=(1,) dtype=float32, numpy=array([100.], dtype=float32)>"
            ]
          },
          "metadata": {
            "tags": []
          },
          "execution_count": 21
        }
      ]
    },
    {
      "cell_type": "code",
      "metadata": {
        "id": "GvRuRPUmow5Z",
        "colab_type": "code",
        "outputId": "1ec113f3-9782-41d6-d4bd-16157415da3d",
        "colab": {
          "base_uri": "https://localhost:8080/",
          "height": 35
        }
      },
      "source": [
        "k = tf.Variable(10)\n",
        "k.assign( k + 1)\n",
        "k"
      ],
      "execution_count": 0,
      "outputs": [
        {
          "output_type": "execute_result",
          "data": {
            "text/plain": [
              "<tf.Variable 'Variable:0' shape=() dtype=int32, numpy=11>"
            ]
          },
          "metadata": {
            "tags": []
          },
          "execution_count": 22
        }
      ]
    },
    {
      "cell_type": "markdown",
      "metadata": {
        "id": "Y9hjIHlOjIsA",
        "colab_type": "text"
      },
      "source": [
        "### Gradientes"
      ]
    },
    {
      "cell_type": "markdown",
      "metadata": {
        "id": "4RRJPhB5GvYr",
        "colab_type": "text"
      },
      "source": [
        "* $g(x) = c*x$\n",
        "* $\\frac{dg}{dx} = c$"
      ]
    },
    {
      "cell_type": "code",
      "metadata": {
        "id": "uAEF---DHAp3",
        "colab_type": "code",
        "outputId": "e0b87407-5440-40ef-a7b5-fef87075098f",
        "colab": {
          "base_uri": "https://localhost:8080/",
          "height": 35
        }
      },
      "source": [
        "c = 10.0 \n",
        "x = tf.Variable(2.0)\n",
        "\n",
        "\n",
        "def g(x):\n",
        "    return c *x\n",
        "\n",
        "###3\n",
        "with tf.GradientTape() as tape:\n",
        "  tape.watch(x)\n",
        "  resultado_g = g(x)\n",
        "  dg_dx  = tape.gradient(resultado_g,x)\n",
        "  print(dg_dx)"
      ],
      "execution_count": 0,
      "outputs": [
        {
          "output_type": "stream",
          "text": [
            "tf.Tensor(10.0, shape=(), dtype=float32)\n"
          ],
          "name": "stdout"
        }
      ]
    },
    {
      "cell_type": "markdown",
      "metadata": {
        "id": "c40bYIidEd4X",
        "colab_type": "text"
      },
      "source": [
        "* $ f(x) =  x^{n}$\n",
        "* $\\frac{df}{dx} = n*x^{n-1}$"
      ]
    },
    {
      "cell_type": "code",
      "metadata": {
        "id": "0agnZ3s0iX60",
        "colab_type": "code",
        "outputId": "7a5f56cf-b5ed-4690-98dd-9bbc9d4305f6",
        "colab": {
          "base_uri": "https://localhost:8080/",
          "height": 54
        }
      },
      "source": [
        "x = tf.constant(10.0)\n",
        "\n",
        "def f(x):\n",
        "  return tf.pow(x,3)\n",
        "\n",
        "\n",
        "with tf.GradientTape() as tape:\n",
        "  tape.watch(x)\n",
        "  f_resultado = f(x)\n",
        "\n",
        "print(f_resultado) #10^3 = 1000\n",
        "df_dx = tape.gradient(f_resultado,x)\n",
        "print(df_dx) #3*10^2 = 300\n"
      ],
      "execution_count": 0,
      "outputs": [
        {
          "output_type": "stream",
          "text": [
            "tf.Tensor(999.99994, shape=(), dtype=float32)\n",
            "tf.Tensor(299.99997, shape=(), dtype=float32)\n"
          ],
          "name": "stdout"
        }
      ]
    },
    {
      "cell_type": "markdown",
      "metadata": {
        "id": "2Y2hqkoIcuQR",
        "colab_type": "text"
      },
      "source": [
        "# Ejemplo: Regresión Líneal"
      ]
    },
    {
      "cell_type": "code",
      "metadata": {
        "id": "ykrR_MGycztg",
        "colab_type": "code",
        "colab": {}
      },
      "source": [
        "d = 2  # dimensiones\n",
        "\n",
        "# Parametros \n",
        "W = tf.Variable(  tf.random.uniform(shape = (d,1), minval= -1, maxval =1)*tf.sqrt(6/(d+1)))\n",
        "b = tf.Variable(tf.zeros(shape = (1,)))"
      ],
      "execution_count": 0,
      "outputs": []
    },
    {
      "cell_type": "code",
      "metadata": {
        "id": "nPSjL5Dr31O3",
        "colab_type": "code",
        "outputId": "40b2b6ae-fb5a-4b24-b2fb-ed5d150452e8",
        "colab": {
          "base_uri": "https://localhost:8080/",
          "height": 91
        }
      },
      "source": [
        "W,b"
      ],
      "execution_count": 0,
      "outputs": [
        {
          "output_type": "execute_result",
          "data": {
            "text/plain": [
              "(<tf.Variable 'Variable:0' shape=(2, 1) dtype=float32, numpy=\n",
              " array([[-0.58844316],\n",
              "        [ 1.2744519 ]], dtype=float32)>,\n",
              " <tf.Variable 'Variable:0' shape=(1,) dtype=float32, numpy=array([0.], dtype=float32)>)"
            ]
          },
          "metadata": {
            "tags": []
          },
          "execution_count": 26
        }
      ]
    },
    {
      "cell_type": "code",
      "metadata": {
        "id": "z38BJnvxdWIC",
        "colab_type": "code",
        "colab": {}
      },
      "source": [
        "def forward(X):\n",
        "  return tf.matmul(X,W) + b"
      ],
      "execution_count": 0,
      "outputs": []
    },
    {
      "cell_type": "code",
      "metadata": {
        "id": "Y8yK1VHkaEhu",
        "colab_type": "code",
        "outputId": "7bb6fe03-d058-42db-b09d-6e641abb721c",
        "colab": {
          "base_uri": "https://localhost:8080/",
          "height": 91
        }
      },
      "source": [
        "x_ = tf.constant([[1.0,1.0],\n",
        "                  [2.0,2.0],\n",
        "                  [1.0,0.0]])\n",
        "forward(x_)\n",
        "\n"
      ],
      "execution_count": 0,
      "outputs": [
        {
          "output_type": "execute_result",
          "data": {
            "text/plain": [
              "<tf.Tensor: shape=(3, 1), dtype=float32, numpy=\n",
              "array([[ 0.6860087 ],\n",
              "       [ 1.3720174 ],\n",
              "       [-0.58844316]], dtype=float32)>"
            ]
          },
          "metadata": {
            "tags": []
          },
          "execution_count": 28
        }
      ]
    },
    {
      "cell_type": "code",
      "metadata": {
        "id": "B_AoyQiudeVR",
        "colab_type": "code",
        "colab": {}
      },
      "source": [
        "def costo(y_, y):\n",
        "  return tf.reduce_mean(tf.square(y - y_))/2\n",
        "  "
      ],
      "execution_count": 0,
      "outputs": []
    },
    {
      "cell_type": "code",
      "metadata": {
        "id": "dlaCxwW8dsKh",
        "colab_type": "code",
        "colab": {}
      },
      "source": [
        "@tf.function ###4\n",
        "def entrena(X,y, tasa = 0.01):\n",
        "  with tf.GradientTape() as tape:\n",
        "    \n",
        "    # Número de ejemplos \n",
        "    m = X.shape[0]\n",
        "\n",
        "    # Predicción\n",
        "    y_ = forward(X)\n",
        "\n",
        "    # Costo o error\n",
        "    error  = costo(y, y_)\n",
        "\n",
        "    # Calcula gradientes\n",
        "    dcosto_dw, dcosto_db = tape.gradient(error, (W,b))\n",
        "\n",
        "    # Actualiza pesos\n",
        "  \n",
        "  #Descenso por el gradiente\n",
        "  W.assign(W - tasa* (1/m)* dcosto_dw)\n",
        "  b.assign(b - tasa* (1/m)* dcosto_db)\n",
        "\n",
        "  return error\n",
        "\n",
        "\n",
        "\n"
      ],
      "execution_count": 0,
      "outputs": []
    },
    {
      "cell_type": "markdown",
      "metadata": {
        "id": "FzYlm5mh8tGg",
        "colab_type": "text"
      },
      "source": [
        "### Visualizar el conjunto de datos"
      ]
    },
    {
      "cell_type": "code",
      "metadata": {
        "id": "nUwBkYEzzYkx",
        "colab_type": "code",
        "colab": {}
      },
      "source": [
        "import numpy as np\n",
        "import random\n",
        "import matplotlib.pyplot as plt\n",
        "%matplotlib inline\n",
        "from mpl_toolkits.mplot3d import Axes3D\n",
        "\n",
        "# Crea el conjunto de datos \n",
        "n = 10000\n",
        "ejemplos = np.random.multivariate_normal(\n",
        "    mean=[0, 0], cov=[[1, 0.5],[0.5, 1]], size=n)\n",
        "x = ejemplos.astype(np.float32)\n",
        "\n",
        "y = x[:,0] *10 + x[:,1]* -2 + 5"
      ],
      "execution_count": 0,
      "outputs": []
    },
    {
      "cell_type": "code",
      "metadata": {
        "id": "lSfqdNQH1LfV",
        "colab_type": "code",
        "outputId": "14b0ece3-0638-413e-b8ce-d21a5fc16468",
        "colab": {
          "base_uri": "https://localhost:8080/",
          "height": 656
        }
      },
      "source": [
        "fig  = plt.figure(figsize=(19.20,10.80))\n",
        "ax = fig.gca(projection = '3d')\n",
        "ax.plot(x[0:,0].flatten(),x[0:,1].flatten(),y[0:].flatten(), label = \"Datos\")\n",
        "ax.legend()"
      ],
      "execution_count": 0,
      "outputs": [
        {
          "output_type": "execute_result",
          "data": {
            "text/plain": [
              "<matplotlib.legend.Legend at 0x7fd6c02b2940>"
            ]
          },
          "metadata": {
            "tags": []
          },
          "execution_count": 32
        },
        {
          "output_type": "display_data",
          "data": {
            "image/png": "[encoded data removed]",
            "text/plain": [
              "<Figure size 1382.4x777.6 with 1 Axes>"
            ]
          },
          "metadata": {
            "tags": []
          }
        }
      ]
    },
    {
      "cell_type": "markdown",
      "metadata": {
        "id": "z-YOkSSX9BML",
        "colab_type": "text"
      },
      "source": [
        "### Preparar el conjunto de datos para entrenar"
      ]
    },
    {
      "cell_type": "code",
      "metadata": {
        "id": "ma_qNiX49spS",
        "colab_type": "code",
        "colab": {}
      },
      "source": [
        "dataset = tf.data.Dataset.from_tensor_slices((x,y)) ###5\n",
        "dataset = dataset.shuffle(1000).batch(128)\n",
        "\n"
      ],
      "execution_count": 0,
      "outputs": []
    },
    {
      "cell_type": "code",
      "metadata": {
        "id": "aKixZ2bCuKD5",
        "colab_type": "code",
        "outputId": "63e9e457-cc97-4c57-fdef-eb6e7869a370",
        "colab": {
          "base_uri": "https://localhost:8080/",
          "height": 1000
        }
      },
      "source": [
        "ejemplos = next(iter(dataset))\n",
        "print(ejemplos)\n",
        "print(ejemplos[0].shape)"
      ],
      "execution_count": 0,
      "outputs": [
        {
          "output_type": "stream",
          "text": [
            "(<tf.Tensor: shape=(128, 2), dtype=float32, numpy=\n",
            "array([[-5.10872304e-01, -1.20135200e+00],\n",
            "       [ 6.02789164e-01, -6.05502605e-01],\n",
            "       [ 1.34755224e-01,  9.69385505e-01],\n",
            "       [-1.20397913e+00,  1.68601722e-01],\n",
            "       [-1.29528379e+00, -1.82968748e+00],\n",
            "       [-4.01363671e-01, -1.86371282e-01],\n",
            "       [ 5.93589723e-01,  9.29831743e-01],\n",
            "       [ 7.64223695e-01,  1.23520339e+00],\n",
            "       [ 7.45907664e-01, -3.67173970e-01],\n",
            "       [-5.68195730e-02, -2.75377095e-01],\n",
            "       [-2.19175887e+00, -1.14090180e+00],\n",
            "       [-6.01066649e-01, -3.94449115e-01],\n",
            "       [-9.74820614e-01,  4.09826487e-01],\n",
            "       [ 1.95172322e+00,  1.57796109e+00],\n",
            "       [-4.32471007e-01, -1.04438388e+00],\n",
            "       [-1.73638716e-01,  5.91379166e-01],\n",
            "       [ 2.16904312e-01,  1.57784134e-01],\n",
            "       [ 1.14608422e-01, -2.58184135e-01],\n",
            "       [ 1.87183619e+00,  8.53083730e-01],\n",
            "       [ 6.94499373e-01, -1.26704288e+00],\n",
            "       [ 5.73801339e-01,  8.80422950e-01],\n",
            "       [ 8.46505344e-01,  1.99587893e+00],\n",
            "       [ 5.59975028e-01,  3.55151832e-01],\n",
            "       [ 1.19082749e+00, -4.87131089e-01],\n",
            "       [ 9.03100550e-01,  1.41353559e+00],\n",
            "       [-5.79299033e-01, -1.45669413e+00],\n",
            "       [-2.92402565e-01,  2.94053823e-01],\n",
            "       [-8.40084553e-01, -1.86828697e+00],\n",
            "       [-1.68004668e+00, -1.54808617e+00],\n",
            "       [ 1.38408124e+00,  6.48787856e-01],\n",
            "       [ 1.04740310e+00,  1.27354407e+00],\n",
            "       [ 7.39876181e-02,  8.14517736e-02],\n",
            "       [ 1.71736449e-01, -7.43150860e-02],\n",
            "       [ 3.80232424e-01,  5.31793773e-01],\n",
            "       [ 8.20586205e-01,  1.03446138e+00],\n",
            "       [ 1.08367276e+00,  8.40331674e-01],\n",
            "       [ 1.00202560e+00,  1.60321105e+00],\n",
            "       [-4.76429582e-01, -9.69184160e-01],\n",
            "       [ 2.10098073e-01, -4.41389024e-01],\n",
            "       [ 9.96346831e-01,  1.62595421e-01],\n",
            "       [ 6.35674357e-01,  3.21906090e-01],\n",
            "       [-3.30439657e-01,  1.05350658e-01],\n",
            "       [-3.27022761e-01,  7.85327628e-02],\n",
            "       [-4.99943197e-01, -8.50842834e-01],\n",
            "       [ 1.22451580e+00, -4.86207992e-01],\n",
            "       [-9.01571631e-01, -1.60949552e+00],\n",
            "       [ 2.36788526e-01,  1.20603859e+00],\n",
            "       [-1.71198919e-01, -9.55783010e-01],\n",
            "       [ 7.84909308e-01,  3.73125941e-01],\n",
            "       [-1.18922269e+00, -1.26731074e+00],\n",
            "       [ 8.97205174e-01,  3.68993044e-01],\n",
            "       [ 1.28059411e+00,  1.25270998e+00],\n",
            "       [ 2.93720990e-01, -1.07680798e-01],\n",
            "       [ 9.54609573e-01, -4.25926149e-01],\n",
            "       [ 1.19446844e-01, -6.03253067e-01],\n",
            "       [-4.85169530e-01, -6.70176744e-01],\n",
            "       [ 6.57917321e-01, -7.68304527e-01],\n",
            "       [-5.66652060e-01, -4.96868521e-01],\n",
            "       [-8.35624635e-01, -1.80559027e+00],\n",
            "       [-3.64782959e-01,  2.71986198e+00],\n",
            "       [-2.13965082e+00,  1.16353720e-01],\n",
            "       [-4.51571643e-01,  1.34907069e-03],\n",
            "       [-2.16787159e-01,  8.77267122e-02],\n",
            "       [ 1.12573683e+00,  1.65810275e+00],\n",
            "       [-7.16120243e-01, -1.47298265e+00],\n",
            "       [ 8.11467290e-01,  9.56162095e-01],\n",
            "       [ 1.64056313e+00,  9.88041878e-01],\n",
            "       [-5.12552261e-01,  2.88886249e-01],\n",
            "       [ 2.23064035e-01,  1.75136542e+00],\n",
            "       [ 5.64787984e-01,  4.03612226e-01],\n",
            "       [-2.26217103e+00, -1.12993920e+00],\n",
            "       [-2.84490705e-01, -8.93314779e-01],\n",
            "       [-6.83028996e-01, -8.85284305e-01],\n",
            "       [-1.97885901e-01, -8.55330408e-01],\n",
            "       [-1.58401668e-01,  2.25472435e-01],\n",
            "       [-1.66191787e-01, -2.19134197e-01],\n",
            "       [ 7.73468673e-01, -3.55223268e-01],\n",
            "       [-8.48114550e-01, -9.77538347e-01],\n",
            "       [ 4.62060012e-02,  7.69768476e-01],\n",
            "       [ 6.50060296e-01,  2.47820482e-01],\n",
            "       [-1.11042845e+00, -1.59305608e+00],\n",
            "       [-6.25751734e-01,  6.45600617e-01],\n",
            "       [ 4.04817045e-01, -6.69052839e-01],\n",
            "       [ 1.49708581e+00,  2.62964654e+00],\n",
            "       [-1.56526065e+00, -6.67138174e-02],\n",
            "       [-4.62859124e-01,  2.11185627e-02],\n",
            "       [ 6.97116137e-01,  1.21128345e+00],\n",
            "       [-8.01652014e-01,  3.42599005e-01],\n",
            "       [-6.64517820e-01,  3.68415445e-01],\n",
            "       [ 7.05953419e-01,  1.15312409e+00],\n",
            "       [ 2.64590114e-01,  1.23109114e+00],\n",
            "       [ 1.22777057e+00,  4.51901227e-01],\n",
            "       [-3.97006840e-01, -9.24438357e-01],\n",
            "       [ 7.73353338e-01, -1.71931386e-01],\n",
            "       [-5.06788611e-01,  8.63549650e-01],\n",
            "       [-2.58486301e-01,  7.59053528e-01],\n",
            "       [-6.85217619e-01, -4.44559976e-02],\n",
            "       [ 7.24212468e-01, -3.14954408e-02],\n",
            "       [ 1.21893132e+00,  6.89358056e-01],\n",
            "       [ 5.16535401e-01,  1.95844427e-01],\n",
            "       [-2.62674600e-01,  5.68922937e-01],\n",
            "       [ 9.24154937e-01,  1.30774426e+00],\n",
            "       [-1.13214886e+00, -4.67079461e-01],\n",
            "       [-2.03854752e+00, -1.34439671e+00],\n",
            "       [ 9.97796208e-02,  4.36559290e-01],\n",
            "       [-9.15709436e-01,  1.59573352e+00],\n",
            "       [-2.81589508e-01, -4.85824704e-01],\n",
            "       [-5.93027472e-01, -1.11772227e+00],\n",
            "       [ 1.02428782e+00,  1.04767668e+00],\n",
            "       [ 1.07096367e-01,  3.47180337e-01],\n",
            "       [ 8.97071421e-01, -6.38697982e-01],\n",
            "       [ 2.07764149e-01,  1.85512275e-01],\n",
            "       [ 5.28907776e-01,  9.09987509e-01],\n",
            "       [ 1.45235944e+00,  1.89237702e+00],\n",
            "       [-5.48512161e-01, -3.49092245e-01],\n",
            "       [ 5.40085256e-01, -5.55726290e-01],\n",
            "       [-1.72440100e+00, -5.11719823e-01],\n",
            "       [-5.58347404e-01,  3.42056364e-01],\n",
            "       [ 1.31040350e-01,  2.68304795e-02],\n",
            "       [ 7.60810018e-01, -9.74113584e-01],\n",
            "       [ 9.37335014e-01, -1.07308853e+00],\n",
            "       [-3.81465614e-01, -7.06717968e-02],\n",
            "       [ 1.47371948e+00,  5.32800972e-01],\n",
            "       [ 8.89576495e-01,  5.18822253e-01],\n",
            "       [-6.85209632e-01, -1.45062661e+00],\n",
            "       [-1.13152325e-01, -1.02617145e+00],\n",
            "       [ 7.11086810e-01,  2.73625165e-01],\n",
            "       [-9.09896314e-01, -1.03608482e-01]], dtype=float32)>, <tf.Tensor: shape=(128,), dtype=float32, numpy=\n",
            "array([  2.2939808 ,  12.238897  ,   4.408781  ,  -7.376994  ,\n",
            "        -4.2934628 ,   1.3591061 ,   9.076234  ,  10.17183   ,\n",
            "        13.193425  ,   4.9825583 , -14.635786  ,  -0.22176838,\n",
            "        -5.5678587 ,  21.361311  ,   2.7640579 ,   2.0808544 ,\n",
            "         6.8534746 ,   6.6624527 ,  22.012194  ,  14.47908   ,\n",
            "         8.977167  ,   9.473295  ,   9.889446  ,  17.882538  ,\n",
            "        11.203935  ,   2.120398  ,   1.4878669 ,   0.33572865,\n",
            "        -8.704294  ,  17.543236  ,  12.926943  ,   5.5769725 ,\n",
            "         6.8659945 ,   7.7387366 ,  11.136939  ,  14.156064  ,\n",
            "        11.813834  ,   2.1740727 ,   7.983759  ,  14.638278  ,\n",
            "        10.712932  ,   1.4849021 ,   1.5727067 ,   1.7022536 ,\n",
            "        18.217575  ,  -0.7967253 ,   4.955808  ,   5.199577  ,\n",
            "        12.10284   ,  -4.357606  ,  13.234066  ,  15.300521  ,\n",
            "         8.152572  ,  15.397948  ,   7.4009748 ,   1.4886584 ,\n",
            "        13.115782  ,   0.32721663,   0.2549343 ,  -4.087553  ,\n",
            "       -16.629215  ,   0.4815855 ,   2.656675  ,  12.941162  ,\n",
            "         0.78476286,  11.202349  ,  19.429548  ,  -0.70329523,\n",
            "         3.7279096 ,   9.840655  , -15.361832  ,   3.9417224 ,\n",
            "        -0.05972099,   4.731802  ,   2.9650385 ,   3.7763505 ,\n",
            "        13.445133  ,  -1.5260692 ,   3.922523  ,  11.004962  ,\n",
            "        -2.918172  ,  -2.5487185 ,  10.386276  ,  14.711565  ,\n",
            "       -10.519179  ,   0.32917166,   9.548594  ,  -3.7017183 ,\n",
            "        -2.382009  ,   9.753286  ,   5.1837187 ,  16.373903  ,\n",
            "         2.8788083 ,  13.077396  ,  -1.7949858 ,   0.8970299 ,\n",
            "        -1.7632642 ,  12.305115  ,  15.810596  ,   9.773664  ,\n",
            "         1.2354083 ,  11.6260605 ,  -5.387329  , -12.696682  ,\n",
            "         5.1246777 ,  -7.3485613 ,   3.1557543 ,   1.3051696 ,\n",
            "        13.147525  ,   5.376603  ,  15.248111  ,   6.706617  ,\n",
            "         8.469103  ,  15.73884   ,   0.21306276,  11.512305  ,\n",
            "       -11.2205715 ,  -1.2675867 ,   6.2567425 ,  14.556327  ,\n",
            "        16.519527  ,   1.3266873 ,  18.671593  ,  12.858121  ,\n",
            "         1.0491567 ,   5.9208198 ,  11.563618  ,  -3.8917456 ],\n",
            "      dtype=float32)>)\n",
            "(128, 2)\n"
          ],
          "name": "stdout"
        }
      ]
    },
    {
      "cell_type": "code",
      "metadata": {
        "id": "k6TYGxb7304M",
        "colab_type": "code",
        "outputId": "872a8b2d-129a-4ba6-8b4b-4a5974d1b575",
        "colab": {
          "base_uri": "https://localhost:8080/",
          "height": 1000
        }
      },
      "source": [
        "epochs = 100\n",
        "\n",
        "for e in range(epochs):\n",
        "  for i,(x,y) in enumerate(dataset):\n",
        "    error = entrena(x,y,tasa = 0.01)\n",
        "\n",
        "    if i % 100 == 0:\n",
        "      print(\"Costo {:0.3f} en epoch: {} \".format(error, e))\n",
        "  "
      ],
      "execution_count": 0,
      "outputs": [
        {
          "output_type": "stream",
          "text": [
            "Costo 45.139 en epoch: 0 \n",
            "Costo 43.362 en epoch: 1 \n",
            "Costo 46.067 en epoch: 2 \n",
            "Costo 59.684 en epoch: 3 \n",
            "Costo 54.435 en epoch: 4 \n",
            "Costo 53.701 en epoch: 5 \n",
            "Costo 49.811 en epoch: 6 \n",
            "Costo 55.466 en epoch: 7 \n",
            "Costo 53.577 en epoch: 8 \n",
            "Costo 58.992 en epoch: 9 \n",
            "Costo 49.273 en epoch: 10 \n",
            "Costo 53.154 en epoch: 11 \n",
            "Costo 46.001 en epoch: 12 \n",
            "Costo 44.855 en epoch: 13 \n",
            "Costo 47.003 en epoch: 14 \n",
            "Costo 53.896 en epoch: 15 \n",
            "Costo 48.335 en epoch: 16 \n",
            "Costo 53.229 en epoch: 17 \n",
            "Costo 50.476 en epoch: 18 \n",
            "Costo 55.714 en epoch: 19 \n",
            "Costo 51.141 en epoch: 20 \n",
            "Costo 49.477 en epoch: 21 \n",
            "Costo 55.669 en epoch: 22 \n",
            "Costo 44.026 en epoch: 23 \n",
            "Costo 46.269 en epoch: 24 \n",
            "Costo 52.358 en epoch: 25 \n",
            "Costo 54.312 en epoch: 26 \n",
            "Costo 55.440 en epoch: 27 \n",
            "Costo 63.246 en epoch: 28 \n",
            "Costo 57.814 en epoch: 29 \n",
            "Costo 60.599 en epoch: 30 \n",
            "Costo 49.967 en epoch: 31 \n",
            "Costo 51.353 en epoch: 32 \n",
            "Costo 43.902 en epoch: 33 \n",
            "Costo 50.874 en epoch: 34 \n",
            "Costo 50.307 en epoch: 35 \n",
            "Costo 35.996 en epoch: 36 \n",
            "Costo 49.206 en epoch: 37 \n",
            "Costo 44.449 en epoch: 38 \n",
            "Costo 45.191 en epoch: 39 \n",
            "Costo 50.689 en epoch: 40 \n",
            "Costo 51.504 en epoch: 41 \n",
            "Costo 46.296 en epoch: 42 \n",
            "Costo 44.739 en epoch: 43 \n",
            "Costo 54.525 en epoch: 44 \n",
            "Costo 41.766 en epoch: 45 \n",
            "Costo 48.695 en epoch: 46 \n",
            "Costo 40.196 en epoch: 47 \n",
            "Costo 40.623 en epoch: 48 \n",
            "Costo 44.404 en epoch: 49 \n",
            "Costo 41.316 en epoch: 50 \n",
            "Costo 42.938 en epoch: 51 \n",
            "Costo 49.321 en epoch: 52 \n",
            "Costo 49.465 en epoch: 53 \n",
            "Costo 43.982 en epoch: 54 \n",
            "Costo 43.115 en epoch: 55 \n",
            "Costo 46.889 en epoch: 56 \n",
            "Costo 51.898 en epoch: 57 \n",
            "Costo 48.315 en epoch: 58 \n",
            "Costo 51.334 en epoch: 59 \n",
            "Costo 51.759 en epoch: 60 \n",
            "Costo 44.812 en epoch: 61 \n",
            "Costo 47.816 en epoch: 62 \n",
            "Costo 59.321 en epoch: 63 \n",
            "Costo 33.843 en epoch: 64 \n",
            "Costo 51.118 en epoch: 65 \n",
            "Costo 33.448 en epoch: 66 \n",
            "Costo 49.809 en epoch: 67 \n",
            "Costo 46.804 en epoch: 68 \n",
            "Costo 58.192 en epoch: 69 \n",
            "Costo 44.517 en epoch: 70 \n",
            "Costo 53.446 en epoch: 71 \n",
            "Costo 50.368 en epoch: 72 \n",
            "Costo 48.216 en epoch: 73 \n",
            "Costo 38.487 en epoch: 74 \n",
            "Costo 47.767 en epoch: 75 \n",
            "Costo 41.567 en epoch: 76 \n",
            "Costo 48.378 en epoch: 77 \n",
            "Costo 54.457 en epoch: 78 \n",
            "Costo 53.294 en epoch: 79 \n",
            "Costo 49.335 en epoch: 80 \n",
            "Costo 42.821 en epoch: 81 \n",
            "Costo 54.592 en epoch: 82 \n",
            "Costo 39.158 en epoch: 83 \n",
            "Costo 47.115 en epoch: 84 \n",
            "Costo 47.877 en epoch: 85 \n",
            "Costo 41.206 en epoch: 86 \n",
            "Costo 39.283 en epoch: 87 \n",
            "Costo 39.117 en epoch: 88 \n",
            "Costo 52.258 en epoch: 89 \n",
            "Costo 46.031 en epoch: 90 \n",
            "Costo 45.100 en epoch: 91 \n",
            "Costo 38.643 en epoch: 92 \n",
            "Costo 47.697 en epoch: 93 \n",
            "Costo 37.579 en epoch: 94 \n",
            "Costo 41.067 en epoch: 95 \n",
            "Costo 52.414 en epoch: 96 \n",
            "Costo 46.392 en epoch: 97 \n",
            "Costo 42.512 en epoch: 98 \n",
            "Costo 36.842 en epoch: 99 \n"
          ],
          "name": "stdout"
        }
      ]
    },
    {
      "cell_type": "code",
      "metadata": {
        "id": "daP4ec9t-uPy",
        "colab_type": "code",
        "outputId": "2b96c864-4174-46d9-d227-8654f47d48c5",
        "colab": {
          "base_uri": "https://localhost:8080/",
          "height": 91
        }
      },
      "source": [
        "print(\"W: {},\\n b: {}\".format(W,b))"
      ],
      "execution_count": 0,
      "outputs": [
        {
          "output_type": "stream",
          "text": [
            "W: <tf.Variable 'Variable:0' shape=(2, 1) dtype=float32, numpy=\n",
            "array([[-0.49282515],\n",
            "       [ 0.7887362 ]], dtype=float32)>,\n",
            " b: <tf.Variable 'Variable:0' shape=(1,) dtype=float32, numpy=array([2.4573572], dtype=float32)>\n"
          ],
          "name": "stdout"
        }
      ]
    },
    {
      "cell_type": "markdown",
      "metadata": {
        "id": "tIH0GXqJWiav",
        "colab_type": "text"
      },
      "source": [
        "## Tensorflow 1.0"
      ]
    },
    {
      "cell_type": "code",
      "metadata": {
        "id": "v8eva2AGWk_3",
        "colab_type": "code",
        "colab": {}
      },
      "source": [
        "import tensorflow.compat.v1 as tf1"
      ],
      "execution_count": 0,
      "outputs": []
    },
    {
      "cell_type": "code",
      "metadata": {
        "id": "0mSrP23UWpAv",
        "colab_type": "code",
        "outputId": "80781bba-1c71-437c-8c15-09c1ce91f0a9",
        "colab": {
          "base_uri": "https://localhost:8080/",
          "height": 92
        }
      },
      "source": [
        "tf1.disable_v2_behavior()\n",
        "g = tf1.placeholder(tf1.float64)"
      ],
      "execution_count": 0,
      "outputs": [
        {
          "output_type": "stream",
          "text": [
            "WARNING:tensorflow:From /usr/local/lib/python3.6/dist-packages/tensorflow_core/python/compat/v2_compat.py:88: disable_resource_variables (from tensorflow.python.ops.variable_scope) is deprecated and will be removed in a future version.\n",
            "Instructions for updating:\n",
            "non-resource variables are not supported in the long term\n"
          ],
          "name": "stdout"
        }
      ]
    }
  ]
}